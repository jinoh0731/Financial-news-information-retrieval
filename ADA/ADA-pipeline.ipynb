{
 "cells": [
  {
   "cell_type": "code",
   "execution_count": 62,
   "metadata": {},
   "outputs": [],
   "source": [
    "import pandas as pd\n",
    "import tiktoken\n"
   ]
  },
  {
   "cell_type": "code",
   "execution_count": 63,
   "metadata": {},
   "outputs": [],
   "source": [
    "embedding_model = \"text-embedding-3-small\"\n",
    "embedding_encoding = \"cl100k_base\"\n",
    "max_tokens = 8000  # the maximum for text-embedding-3-small is 8191"
   ]
  },
  {
   "cell_type": "code",
   "execution_count": 64,
   "metadata": {},
   "outputs": [],
   "source": [
    "# load & inspect dataset\n",
    "import pandas as pd\n",
    "\n",
    "input_datapath = \"test_embeddings_major-andminor-yes-cosine-simlarity.csv\"  # to save space, we provide a pre-filtered dataset\n",
    "df = pd.read_csv(input_datapath)"
   ]
  },
  {
   "cell_type": "code",
   "execution_count": 65,
   "metadata": {},
   "outputs": [],
   "source": [
    "\n",
    "# Selecting specific columns\n",
    "selected_df = df[['Concatenated_SASB_Query', 'title_and_content']]\n",
    "\n"
   ]
  },
  {
   "cell_type": "code",
   "execution_count": 67,
   "metadata": {},
   "outputs": [
    {
     "data": {
      "text/html": [
       "<div>\n",
       "<style scoped>\n",
       "    .dataframe tbody tr th:only-of-type {\n",
       "        vertical-align: middle;\n",
       "    }\n",
       "\n",
       "    .dataframe tbody tr th {\n",
       "        vertical-align: top;\n",
       "    }\n",
       "\n",
       "    .dataframe thead th {\n",
       "        text-align: right;\n",
       "    }\n",
       "</style>\n",
       "<table border=\"1\" class=\"dataframe\">\n",
       "  <thead>\n",
       "    <tr style=\"text-align: right;\">\n",
       "      <th></th>\n",
       "      <th>Concatenated_SASB_Query</th>\n",
       "      <th>title_and_content</th>\n",
       "    </tr>\n",
       "  </thead>\n",
       "  <tbody>\n",
       "    <tr>\n",
       "      <th>0</th>\n",
       "      <td>Tailings Storage Facilities Management - The M...</td>\n",
       "      <td>New York Cements Itself as the Gold Mining Cap...</td>\n",
       "    </tr>\n",
       "    <tr>\n",
       "      <th>1</th>\n",
       "      <td>Tailings Storage Facilities Management - The M...</td>\n",
       "      <td>Sagging Chinese Growth Won‚Äö√Ñ√¥t Punish Copp...</td>\n",
       "    </tr>\n",
       "    <tr>\n",
       "      <th>2</th>\n",
       "      <td>Tailings Storage Facilities Management - The M...</td>\n",
       "      <td>Barrick Gold open to acquiring Newmont's share...</td>\n",
       "    </tr>\n",
       "    <tr>\n",
       "      <th>3</th>\n",
       "      <td>Tailings Storage Facilities Management - The M...</td>\n",
       "      <td>Merger activity among gold producers suggests ...</td>\n",
       "    </tr>\n",
       "    <tr>\n",
       "      <th>4</th>\n",
       "      <td>Tailings Storage Facilities Management - The M...</td>\n",
       "      <td>The amount of gas sent to U.S. LNG export term...</td>\n",
       "    </tr>\n",
       "    <tr>\n",
       "      <th>...</th>\n",
       "      <td>...</td>\n",
       "      <td>...</td>\n",
       "    </tr>\n",
       "    <tr>\n",
       "      <th>1761</th>\n",
       "      <td>Land Use &amp; Ecological Impacts - Meat, Poultry ...</td>\n",
       "      <td>Spring 2023 Layoff Tracker: Tyson Foods Cuts O...</td>\n",
       "    </tr>\n",
       "    <tr>\n",
       "      <th>1762</th>\n",
       "      <td>Land Use &amp; Ecological Impacts - Meat, Poultry ...</td>\n",
       "      <td>Tyson enlists self-driving trucks to deliver c...</td>\n",
       "    </tr>\n",
       "    <tr>\n",
       "      <th>1763</th>\n",
       "      <td>Land Use &amp; Ecological Impacts - Meat, Poultry ...</td>\n",
       "      <td>Tyson enlists self-driving trucks to deliver c...</td>\n",
       "    </tr>\n",
       "    <tr>\n",
       "      <th>1764</th>\n",
       "      <td>Land Use &amp; Ecological Impacts - Meat, Poultry ...</td>\n",
       "      <td>Big Meat Companies Want to Use Smartwatches to...</td>\n",
       "    </tr>\n",
       "    <tr>\n",
       "      <th>1765</th>\n",
       "      <td>Land Use &amp; Ecological Impacts - Meat, Poultry ...</td>\n",
       "      <td>Big Meat Companies Want to Use Smartwatches to...</td>\n",
       "    </tr>\n",
       "  </tbody>\n",
       "</table>\n",
       "<p>1766 rows × 2 columns</p>\n",
       "</div>"
      ],
      "text/plain": [
       "                                Concatenated_SASB_Query  \\\n",
       "0     Tailings Storage Facilities Management - The M...   \n",
       "1     Tailings Storage Facilities Management - The M...   \n",
       "2     Tailings Storage Facilities Management - The M...   \n",
       "3     Tailings Storage Facilities Management - The M...   \n",
       "4     Tailings Storage Facilities Management - The M...   \n",
       "...                                                 ...   \n",
       "1761  Land Use & Ecological Impacts - Meat, Poultry ...   \n",
       "1762  Land Use & Ecological Impacts - Meat, Poultry ...   \n",
       "1763  Land Use & Ecological Impacts - Meat, Poultry ...   \n",
       "1764  Land Use & Ecological Impacts - Meat, Poultry ...   \n",
       "1765  Land Use & Ecological Impacts - Meat, Poultry ...   \n",
       "\n",
       "                                      title_and_content  \n",
       "0     New York Cements Itself as the Gold Mining Cap...  \n",
       "1     Sagging Chinese Growth Won‚Äö√Ñ√¥t Punish Copp...  \n",
       "2     Barrick Gold open to acquiring Newmont's share...  \n",
       "3     Merger activity among gold producers suggests ...  \n",
       "4     The amount of gas sent to U.S. LNG export term...  \n",
       "...                                                 ...  \n",
       "1761  Spring 2023 Layoff Tracker: Tyson Foods Cuts O...  \n",
       "1762  Tyson enlists self-driving trucks to deliver c...  \n",
       "1763  Tyson enlists self-driving trucks to deliver c...  \n",
       "1764  Big Meat Companies Want to Use Smartwatches to...  \n",
       "1765  Big Meat Companies Want to Use Smartwatches to...  \n",
       "\n",
       "[1766 rows x 2 columns]"
      ]
     },
     "execution_count": 67,
     "metadata": {},
     "output_type": "execute_result"
    }
   ],
   "source": [
    "pd.set_option('display.max_colwidth', 50)\n",
    "selected_df"
   ]
  },
  {
   "cell_type": "code",
   "execution_count": 72,
   "metadata": {},
   "outputs": [],
   "source": [
    "import pandas as pd\n",
    "import openai\n",
    "from openai import OpenAI\n",
    "\n",
    "# Initialize OpenAI client with your API key\n",
    "client = OpenAI(api_key=\"your_api_key_here\")\n",
    "\n",
    "def get_embedding(text, model=\"text-embedding-3-small\"):\n",
    "    text = text.replace(\"\\n\", \" \")  # Clean up new line characters\n",
    "    response = client.embeddings.create(input=[text], model=model)\n",
    "    return response.data[0].embedding\n"
   ]
  },
  {
   "cell_type": "code",
   "execution_count": 73,
   "metadata": {},
   "outputs": [
    {
     "name": "stderr",
     "output_type": "stream",
     "text": [
      "/var/folders/m0/76k8l35x2p15kn84b0cplr8c0000gn/T/ipykernel_75029/2930129265.py:16: SettingWithCopyWarning: \n",
      "A value is trying to be set on a copy of a slice from a DataFrame.\n",
      "Try using .loc[row_indexer,col_indexer] = value instead\n",
      "\n",
      "See the caveats in the documentation: https://pandas.pydata.org/pandas-docs/stable/user_guide/indexing.html#returning-a-view-versus-a-copy\n",
      "  selected_df['ada_embedding_SASB_Query'] = ada_embeddings_SASB_Query\n",
      "/var/folders/m0/76k8l35x2p15kn84b0cplr8c0000gn/T/ipykernel_75029/2930129265.py:17: SettingWithCopyWarning: \n",
      "A value is trying to be set on a copy of a slice from a DataFrame.\n",
      "Try using .loc[row_indexer,col_indexer] = value instead\n",
      "\n",
      "See the caveats in the documentation: https://pandas.pydata.org/pandas-docs/stable/user_guide/indexing.html#returning-a-view-versus-a-copy\n",
      "  selected_df['ada_embedding_SASB_Candidate'] = ada_embeddings_SASB_Candidate\n"
     ]
    }
   ],
   "source": [
    "# Create empty lists to store embeddings\n",
    "ada_embeddings_SASB_Query = []\n",
    "ada_embeddings_SASB_Candidate = []\n",
    "\n",
    "# Loop through each row in the DataFrame\n",
    "for index, row in selected_df.iterrows():\n",
    "    # Compute embeddings for each column\n",
    "    query_embedding = get_embedding(row['Concatenated_SASB_Query'], model='text-embedding-3-small')\n",
    "    candidate_embedding = get_embedding(row['title_and_content'], model='text-embedding-3-small')\n",
    "    \n",
    "    # Append embeddings to their respective lists\n",
    "    ada_embeddings_SASB_Query.append(query_embedding)\n",
    "    ada_embeddings_SASB_Candidate.append(candidate_embedding)\n",
    "\n",
    "# Assign computed embeddings back to the DataFrame\n",
    "selected_df['ada_embedding_SASB_Query'] = ada_embeddings_SASB_Query\n",
    "selected_df['ada_embedding_SASB_Candidate'] = ada_embeddings_SASB_Candidate"
   ]
  },
  {
   "cell_type": "code",
   "execution_count": 76,
   "metadata": {},
   "outputs": [
    {
     "data": {
      "text/html": [
       "<div>\n",
       "<style scoped>\n",
       "    .dataframe tbody tr th:only-of-type {\n",
       "        vertical-align: middle;\n",
       "    }\n",
       "\n",
       "    .dataframe tbody tr th {\n",
       "        vertical-align: top;\n",
       "    }\n",
       "\n",
       "    .dataframe thead th {\n",
       "        text-align: right;\n",
       "    }\n",
       "</style>\n",
       "<table border=\"1\" class=\"dataframe\">\n",
       "  <thead>\n",
       "    <tr style=\"text-align: right;\">\n",
       "      <th></th>\n",
       "      <th>Concatenated_SASB_Query</th>\n",
       "      <th>title_and_content</th>\n",
       "      <th>ada_embedding_SASB_Query</th>\n",
       "      <th>ada_embedding_SASB_Candidate</th>\n",
       "    </tr>\n",
       "  </thead>\n",
       "  <tbody>\n",
       "    <tr>\n",
       "      <th>0</th>\n",
       "      <td>Tailings Storage Facilities Management - The M...</td>\n",
       "      <td>New York Cements Itself as the Gold Mining Cap...</td>\n",
       "      <td>[0.017493782564997673, 0.051179543137550354, 0...</td>\n",
       "      <td>[0.0015000662533566356, -0.003786575049161911,...</td>\n",
       "    </tr>\n",
       "    <tr>\n",
       "      <th>1</th>\n",
       "      <td>Tailings Storage Facilities Management - The M...</td>\n",
       "      <td>Sagging Chinese Growth Won‚Äö√Ñ√¥t Punish Copp...</td>\n",
       "      <td>[0.017489079385995865, 0.051165781915187836, 0...</td>\n",
       "      <td>[0.014376699924468994, -0.032034337520599365, ...</td>\n",
       "    </tr>\n",
       "  </tbody>\n",
       "</table>\n",
       "</div>"
      ],
      "text/plain": [
       "                             Concatenated_SASB_Query  \\\n",
       "0  Tailings Storage Facilities Management - The M...   \n",
       "1  Tailings Storage Facilities Management - The M...   \n",
       "\n",
       "                                   title_and_content  \\\n",
       "0  New York Cements Itself as the Gold Mining Cap...   \n",
       "1  Sagging Chinese Growth Won‚Äö√Ñ√¥t Punish Copp...   \n",
       "\n",
       "                            ada_embedding_SASB_Query  \\\n",
       "0  [0.017493782564997673, 0.051179543137550354, 0...   \n",
       "1  [0.017489079385995865, 0.051165781915187836, 0...   \n",
       "\n",
       "                        ada_embedding_SASB_Candidate  \n",
       "0  [0.0015000662533566356, -0.003786575049161911,...  \n",
       "1  [0.014376699924468994, -0.032034337520599365, ...  "
      ]
     },
     "execution_count": 76,
     "metadata": {},
     "output_type": "execute_result"
    }
   ],
   "source": [
    "selected_df"
   ]
  },
  {
   "cell_type": "code",
   "execution_count": 77,
   "metadata": {},
   "outputs": [],
   "source": [
    "df_final = selected_df[['Concatenated_SASB_Query', 'title_and_content', 'ada_embedding_SASB_Query', 'ada_embedding_SASB_Candidate']]"
   ]
  },
  {
   "cell_type": "code",
   "execution_count": 78,
   "metadata": {},
   "outputs": [],
   "source": [
    "df = df[['query_embedding', 'candidate_embedding']]"
   ]
  },
  {
   "cell_type": "code",
   "execution_count": 80,
   "metadata": {},
   "outputs": [],
   "source": [
    "data_compare = pd.concat([df_final, df], axis=1)"
   ]
  },
  {
   "cell_type": "code",
   "execution_count": 81,
   "metadata": {},
   "outputs": [
    {
     "data": {
      "text/html": [
       "<div>\n",
       "<style scoped>\n",
       "    .dataframe tbody tr th:only-of-type {\n",
       "        vertical-align: middle;\n",
       "    }\n",
       "\n",
       "    .dataframe tbody tr th {\n",
       "        vertical-align: top;\n",
       "    }\n",
       "\n",
       "    .dataframe thead th {\n",
       "        text-align: right;\n",
       "    }\n",
       "</style>\n",
       "<table border=\"1\" class=\"dataframe\">\n",
       "  <thead>\n",
       "    <tr style=\"text-align: right;\">\n",
       "      <th></th>\n",
       "      <th>Concatenated_SASB_Query</th>\n",
       "      <th>title_and_content</th>\n",
       "      <th>ada_embedding_SASB_Query</th>\n",
       "      <th>ada_embedding_SASB_Candidate</th>\n",
       "      <th>query_embedding</th>\n",
       "      <th>candidate_embedding</th>\n",
       "    </tr>\n",
       "  </thead>\n",
       "  <tbody>\n",
       "    <tr>\n",
       "      <th>0</th>\n",
       "      <td>Tailings Storage Facilities Management - The M...</td>\n",
       "      <td>New York Cements Itself as the Gold Mining Cap...</td>\n",
       "      <td>[0.017493782564997673, 0.051179543137550354, 0...</td>\n",
       "      <td>[0.0015000662533566356, -0.003786575049161911,...</td>\n",
       "      <td>[[0.9865462  0.01918043 0.00753147 0.11734246 ...</td>\n",
       "      <td>[[0.52431774 0.4818942  0.5384123  0.5376571  ...</td>\n",
       "    </tr>\n",
       "  </tbody>\n",
       "</table>\n",
       "</div>"
      ],
      "text/plain": [
       "                             Concatenated_SASB_Query  \\\n",
       "0  Tailings Storage Facilities Management - The M...   \n",
       "\n",
       "                                   title_and_content  \\\n",
       "0  New York Cements Itself as the Gold Mining Cap...   \n",
       "\n",
       "                            ada_embedding_SASB_Query  \\\n",
       "0  [0.017493782564997673, 0.051179543137550354, 0...   \n",
       "\n",
       "                        ada_embedding_SASB_Candidate  \\\n",
       "0  [0.0015000662533566356, -0.003786575049161911,...   \n",
       "\n",
       "                                     query_embedding  \\\n",
       "0  [[0.9865462  0.01918043 0.00753147 0.11734246 ...   \n",
       "\n",
       "                                 candidate_embedding  \n",
       "0  [[0.52431774 0.4818942  0.5384123  0.5376571  ...  "
      ]
     },
     "execution_count": 81,
     "metadata": {},
     "output_type": "execute_result"
    }
   ],
   "source": [
    "data_compare.head(1)"
   ]
  },
  {
   "cell_type": "code",
   "execution_count": 83,
   "metadata": {},
   "outputs": [
    {
     "name": "stdout",
     "output_type": "stream",
     "text": [
      "Length of the ADA Query list: 1536\n",
      "Length of the ADA Candidate list: 1536\n",
      "Length of the Two Tower Query list: 58\n",
      "Length of the Two Tower Candidate list: 58\n"
     ]
    }
   ],
   "source": [
    "# Get the length of the list in the first row of the 'ada_embedding_SASB_Query' column\n",
    "l1 = len(data_compare['ada_embedding_SASB_Query'].iloc[0])\n",
    "l2 = len(data_compare['ada_embedding_SASB_Candidate'].iloc[0])\n",
    "l3 = len(data_compare['query_embedding'].iloc[0])\n",
    "l4 = len(data_compare['candidate_embedding'].iloc[0])\n",
    "\n",
    "# Print the result\n",
    "print(\"Length of the ADA Query list:\", l1)\n",
    "print(\"Length of the ADA Candidate list:\", l2)\n",
    "print(\"Length of the Two Tower Query list:\", l3)\n",
    "print(\"Length of the Two Tower Candidate list:\", l4)"
   ]
  },
  {
   "cell_type": "code",
   "execution_count": 82,
   "metadata": {},
   "outputs": [],
   "source": [
    "data_compare.to_csv('ADA-test-final.csv')  # Optionally, save to a new CSV file"
   ]
  },
  {
   "cell_type": "code",
   "execution_count": null,
   "metadata": {},
   "outputs": [],
   "source": []
  }
 ],
 "metadata": {
  "kernelspec": {
   "display_name": "base",
   "language": "python",
   "name": "python3"
  },
  "language_info": {
   "codemirror_mode": {
    "name": "ipython",
    "version": 3
   },
   "file_extension": ".py",
   "mimetype": "text/x-python",
   "name": "python",
   "nbconvert_exporter": "python",
   "pygments_lexer": "ipython3",
   "version": "3.11.5"
  },
  "orig_nbformat": 4
 },
 "nbformat": 4,
 "nbformat_minor": 2
}
